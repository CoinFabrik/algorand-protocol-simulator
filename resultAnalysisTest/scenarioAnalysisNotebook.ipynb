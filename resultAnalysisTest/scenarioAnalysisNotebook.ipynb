{
 "cells": [
  {
   "cell_type": "markdown",
   "metadata": {},
   "source": [
    "# Simulation running and result analysis\n",
    "\n",
    "Sample notebook for result analysis on a specific simulation scenario. Shows network generation, how to perform a simulation call, result retrieval and some possible charts"
   ]
  },
  {
   "cell_type": "markdown",
   "metadata": {},
   "source": [
    "## Network generation\n",
    "\n",
    "Por ahora un script placeholder. VER: NetworkX para generar redes mas interesantes y graficarlas"
   ]
  },
  {
   "cell_type": "code",
   "execution_count": 83,
   "metadata": {},
   "outputs": [],
   "source": [
    "import random\n",
    "\n",
    "def createNetworkFile(nPartNodes, nRelayNodes):\n",
    "    fileStr = str(nPartNodes) + \" \" + str(nRelayNodes)\n",
    "    \n",
    "    #partNode connections to relays\n",
    "    for _ in range(0, nPartNodes):\n",
    "        relays = list(range(0, nRelayNodes))\n",
    "        random.shuffle(relays)\n",
    "        fileStr += '\\n'\n",
    "        fileStr += str(relays[0]) + \" 0 \" + \" 0 \" + \" \"\n",
    "        fileStr += str(relays[1]) + \" 0 \" + \" 0 \" + \" \"\n",
    "        fileStr += str(relays[2]) + \" 0 \" + \" 0 \" + \" \"\n",
    "        fileStr += str(relays[3]) + \" 0 \" + \" 0\"\n",
    "\n",
    "    #relay to relay connections\n",
    "    relayConnMatrix = []\n",
    "    for relayID in range(0, nRelayNodes):\n",
    "        relayConnMatrix.append([False for _ in range(0, nRelayNodes)])\n",
    "    for relayID in range(0, nRelayNodes):\n",
    "        relays = list(range(0, nRelayNodes))\n",
    "        random.shuffle(relays)\n",
    "        for i in range(0, 10):\n",
    "            relayConnMatrix[relayID][relays[i]] = True\n",
    "            relayConnMatrix[relays[i]][relayID] = True\n",
    "    for relayID in range(0, nRelayNodes):\n",
    "        fileStr += '\\n'\n",
    "        for i in range(0, nRelayNodes):\n",
    "            if (i != relayID and relayConnMatrix[relayID][i] == True):\n",
    "                fileStr += str(i) + \" 0 \" + \" 0 \" + \" \"\n",
    "                \n",
    "    #save to file  \n",
    "    file = open('../test_network.nf', 'w')\n",
    "    file.write(fileStr)    \n",
    "    file.close()\n",
    "\n",
    "\n",
    "createNetworkFile(400, 100)"
   ]
  },
  {
   "cell_type": "markdown",
   "metadata": {},
   "source": [
    "## Run simulation\n",
    "\n",
    "Run the simulation through command line"
   ]
  },
  {
   "cell_type": "code",
   "execution_count": 84,
   "metadata": {},
   "outputs": [
    {
     "data": {
      "text/plain": [
       "CompletedProcess(args='testrun.bat', returncode=0)"
      ]
     },
     "execution_count": 84,
     "metadata": {},
     "output_type": "execute_result"
    }
   ],
   "source": [
    "import subprocess\n",
    "subprocess.run(\"testrun.bat\", shell=True, check=True)"
   ]
  },
  {
   "cell_type": "markdown",
   "metadata": {},
   "source": [
    "## Load run results and transform into CSV\n",
    "\n",
    "Loads raw simulation logs and transforms them into a more usable CSV file (out.csv)"
   ]
  },
  {
   "cell_type": "code",
   "execution_count": 85,
   "metadata": {},
   "outputs": [],
   "source": [
    "import re\n",
    "import csv\n",
    "\n",
    "with open('..\\src\\out.log', 'r') as in_file:\n",
    "    stripped = (line.strip() for line in in_file)\n",
    "\n",
    "    r = re.compile(r\"^\\[INFO\\]\\tS.*\")\n",
    "    stepEvents = filter(r.match, stripped)\n",
    "    stepEvents = [l[9:].split(\" \") for l in stepEvents]\n",
    "    \n",
    "    with open(\"..\\out_NodeRPSEvents.csv\", \"w\", newline=\"\") as f:\n",
    "        writer = csv.writer(f)\n",
    "        writer.writerow([\"Node ID\", \"round\", \"period\", \"step\", \"Simulation time (seconds)\", \"Chronological time (seconds)\"])\n",
    "        writer.writerows(stepEvents)"
   ]
  },
  {
   "cell_type": "code",
   "execution_count": null,
   "metadata": {},
   "outputs": [],
   "source": [
    "with open('..\\src\\out.log', 'r') as in_file:\n",
    "    stripped = (line.strip() for line in in_file)\n",
    "\n",
    "    r = re.compile(r\"^\\[INFO\\]\\tTXN.*\")\n",
    "    txnEvents = filter(r.match, stripped)\n",
    "    txnEvents = [l[12:].split(\" \") for l in txnEvents]\n",
    "    \n",
    "    with open(\"..\\out_NodeTXNEvents.csv\", \"w\", newline=\"\") as f:\n",
    "        writer = csv.writer(f)\n",
    "        writer.writerow([\"Node ID\", \"round\", \"period\", \"step\", \"Simulation time (seconds)\", \"Chronological time (seconds)\", \"Txn ID\", \"Transaction Type\", \"Sender Address\", \"Receiver Address\", \"Txn Fee\"])\n",
    "        writer.writerows(txnEvents)"
   ]
  },
  {
   "cell_type": "markdown",
   "metadata": {},
   "source": [
    "## Result analysis and charts\n",
    "\n",
    "Load csv result file and analyze different stats, concluding the scenario experiment"
   ]
  },
  {
   "cell_type": "code",
   "execution_count": 86,
   "metadata": {},
   "outputs": [
    {
     "data": {
      "text/html": [
       "<div>\n",
       "<style scoped>\n",
       "    .dataframe tbody tr th:only-of-type {\n",
       "        vertical-align: middle;\n",
       "    }\n",
       "\n",
       "    .dataframe tbody tr th {\n",
       "        vertical-align: top;\n",
       "    }\n",
       "\n",
       "    .dataframe thead th {\n",
       "        text-align: right;\n",
       "    }\n",
       "</style>\n",
       "<table border=\"1\" class=\"dataframe\">\n",
       "  <thead>\n",
       "    <tr style=\"text-align: right;\">\n",
       "      <th></th>\n",
       "      <th>Node ID</th>\n",
       "      <th>round</th>\n",
       "      <th>period</th>\n",
       "      <th>step</th>\n",
       "      <th>Simulation time (seconds)</th>\n",
       "      <th>Chronological time (seconds)</th>\n",
       "    </tr>\n",
       "  </thead>\n",
       "  <tbody>\n",
       "    <tr>\n",
       "      <th>0</th>\n",
       "      <td>0</td>\n",
       "      <td>1</td>\n",
       "      <td>0</td>\n",
       "      <td>0</td>\n",
       "      <td>0.0</td>\n",
       "      <td>0.025002</td>\n",
       "    </tr>\n",
       "    <tr>\n",
       "      <th>1</th>\n",
       "      <td>0</td>\n",
       "      <td>1</td>\n",
       "      <td>0</td>\n",
       "      <td>1</td>\n",
       "      <td>0.0</td>\n",
       "      <td>0.025002</td>\n",
       "    </tr>\n",
       "    <tr>\n",
       "      <th>2</th>\n",
       "      <td>1</td>\n",
       "      <td>1</td>\n",
       "      <td>0</td>\n",
       "      <td>0</td>\n",
       "      <td>0.0</td>\n",
       "      <td>0.025002</td>\n",
       "    </tr>\n",
       "    <tr>\n",
       "      <th>3</th>\n",
       "      <td>1</td>\n",
       "      <td>1</td>\n",
       "      <td>0</td>\n",
       "      <td>1</td>\n",
       "      <td>0.0</td>\n",
       "      <td>0.025002</td>\n",
       "    </tr>\n",
       "    <tr>\n",
       "      <th>4</th>\n",
       "      <td>2</td>\n",
       "      <td>1</td>\n",
       "      <td>0</td>\n",
       "      <td>0</td>\n",
       "      <td>0.0</td>\n",
       "      <td>0.025537</td>\n",
       "    </tr>\n",
       "  </tbody>\n",
       "</table>\n",
       "</div>"
      ],
      "text/plain": [
       "   Node ID  round  period  step  Simulation time (seconds)  \\\n",
       "0        0      1       0     0                        0.0   \n",
       "1        0      1       0     1                        0.0   \n",
       "2        1      1       0     0                        0.0   \n",
       "3        1      1       0     1                        0.0   \n",
       "4        2      1       0     0                        0.0   \n",
       "\n",
       "   Chronological time (seconds)  \n",
       "0                      0.025002  \n",
       "1                      0.025002  \n",
       "2                      0.025002  \n",
       "3                      0.025002  \n",
       "4                      0.025537  "
      ]
     },
     "execution_count": 86,
     "metadata": {},
     "output_type": "execute_result"
    }
   ],
   "source": [
    "import pandas as pd\n",
    "\n",
    "df = pd.read_csv('../out_NodeRPSEvents.csv')\n",
    "df.head()"
   ]
  },
  {
   "cell_type": "code",
   "execution_count": 1,
   "metadata": {},
   "outputs": [
    {
     "data": {
      "text/html": [
       "<div>\n",
       "<style scoped>\n",
       "    .dataframe tbody tr th:only-of-type {\n",
       "        vertical-align: middle;\n",
       "    }\n",
       "\n",
       "    .dataframe tbody tr th {\n",
       "        vertical-align: top;\n",
       "    }\n",
       "\n",
       "    .dataframe thead th {\n",
       "        text-align: right;\n",
       "    }\n",
       "</style>\n",
       "<table border=\"1\" class=\"dataframe\">\n",
       "  <thead>\n",
       "    <tr style=\"text-align: right;\">\n",
       "      <th></th>\n",
       "      <th>Node ID</th>\n",
       "      <th>Account Address</th>\n",
       "      <th>round</th>\n",
       "      <th>period</th>\n",
       "      <th>step</th>\n",
       "      <th>Block hash value</th>\n",
       "      <th>Vote Weight</th>\n",
       "      <th>Simulation time (seconds)</th>\n",
       "      <th>Chronological time (seconds)</th>\n",
       "    </tr>\n",
       "  </thead>\n",
       "  <tbody>\n",
       "    <tr>\n",
       "      <th>0</th>\n",
       "      <td>1</td>\n",
       "      <td>249</td>\n",
       "      <td>1</td>\n",
       "      <td>0</td>\n",
       "      <td>0</td>\n",
       "      <td>2</td>\n",
       "      <td>1</td>\n",
       "      <td>0.0</td>\n",
       "      <td>0.002001</td>\n",
       "    </tr>\n",
       "    <tr>\n",
       "      <th>1</th>\n",
       "      <td>17</td>\n",
       "      <td>153</td>\n",
       "      <td>1</td>\n",
       "      <td>0</td>\n",
       "      <td>0</td>\n",
       "      <td>18</td>\n",
       "      <td>1</td>\n",
       "      <td>0.0</td>\n",
       "      <td>0.004001</td>\n",
       "    </tr>\n",
       "    <tr>\n",
       "      <th>2</th>\n",
       "      <td>23</td>\n",
       "      <td>87</td>\n",
       "      <td>1</td>\n",
       "      <td>0</td>\n",
       "      <td>0</td>\n",
       "      <td>24</td>\n",
       "      <td>1</td>\n",
       "      <td>0.0</td>\n",
       "      <td>0.005002</td>\n",
       "    </tr>\n",
       "    <tr>\n",
       "      <th>3</th>\n",
       "      <td>28</td>\n",
       "      <td>4</td>\n",
       "      <td>1</td>\n",
       "      <td>0</td>\n",
       "      <td>0</td>\n",
       "      <td>29</td>\n",
       "      <td>1</td>\n",
       "      <td>0.0</td>\n",
       "      <td>0.005002</td>\n",
       "    </tr>\n",
       "    <tr>\n",
       "      <th>4</th>\n",
       "      <td>56</td>\n",
       "      <td>248</td>\n",
       "      <td>1</td>\n",
       "      <td>0</td>\n",
       "      <td>0</td>\n",
       "      <td>57</td>\n",
       "      <td>1</td>\n",
       "      <td>0.0</td>\n",
       "      <td>0.006001</td>\n",
       "    </tr>\n",
       "  </tbody>\n",
       "</table>\n",
       "</div>"
      ],
      "text/plain": [
       "   Node ID  Account Address  round  period  step  Block hash value  \\\n",
       "0        1              249      1       0     0                 2   \n",
       "1       17              153      1       0     0                18   \n",
       "2       23               87      1       0     0                24   \n",
       "3       28                4      1       0     0                29   \n",
       "4       56              248      1       0     0                57   \n",
       "\n",
       "   Vote Weight  Simulation time (seconds)  Chronological time (seconds)  \n",
       "0            1                        0.0                      0.002001  \n",
       "1            1                        0.0                      0.004001  \n",
       "2            1                        0.0                      0.005002  \n",
       "3            1                        0.0                      0.005002  \n",
       "4            1                        0.0                      0.006001  "
      ]
     },
     "execution_count": 1,
     "metadata": {},
     "output_type": "execute_result"
    }
   ],
   "source": [
    "import pandas as pd\n",
    "\n",
    "df = pd.read_csv('../out.csv')\n",
    "df.head()"
   ]
  },
  {
   "cell_type": "code",
   "execution_count": 2,
   "metadata": {},
   "outputs": [
    {
     "data": {
      "text/plain": [
       "array([249, 153,  87,   4, 248,  93,  83, 123, 230,  98, 203,  92,  42,\n",
       "       204, 199, 171,  82, 131,  35, 183, 133,  59,  15,  18,  29, 210,\n",
       "       173, 207, 292,   2,  28,  96, 126, 280, 162, 229, 278,  76, 146,\n",
       "        66, 190,  73,  78, 287, 233,  27,  64,  37, 160, 132, 206, 253,\n",
       "       252,  62, 265,  40, 192, 220,  69,  49,  31, 184, 114, 200, 158,\n",
       "       238, 269, 129, 276, 277, 224, 187, 232, 166, 143, 216, 205, 152,\n",
       "        38,  90,  57, 284, 274,  25, 294, 279, 211, 198, 108, 236, 245,\n",
       "       262, 268,  34,  12, 221, 135, 242,  52, 281,  50, 196, 113, 169,\n",
       "       138, 267,  41,  23, 214,  33, 299, 240, 178,  63, 256,  94, 223,\n",
       "       120, 235, 122, 111, 188, 296, 201, 150, 213,  61, 270, 227, 156,\n",
       "       102, 145, 271, 209, 164, 121,  51, 295, 142, 263,  56, 163, 257,\n",
       "       282, 128, 273, 170,  97,  95, 101, 212, 289, 222, 167, 177,  74,\n",
       "       161, 275, 218, 140,  79,  70, 228, 103, 193, 147, 241, 155,  48,\n",
       "       217, 136, 258, 115, 285, 181,  84, 283, 226, 174,  68, 246,  60,\n",
       "       141,  55,  77, 130,   0, 290, 266, 239,  11, 202, 244,  46, 254,\n",
       "       148, 168,  67, 234,  45, 231, 176, 137, 251, 149, 194, 119, 288,\n",
       "       185, 144, 134,  20,  81, 100,  80,   3,  58, 118,  75,  85, 106,\n",
       "        47, 298, 237, 139,  16, 215, 154,  53,  39, 260, 151, 297, 125,\n",
       "       105,  22, 259, 117, 219,  44, 157, 243,   9, 179, 175,   7, 197,\n",
       "       208, 195,   5, 255, 286, 110, 112,  13,  24, 127,  21, 172,  65,\n",
       "        54,   6, 291, 116, 107,   8, 191, 225, 165,  36, 189,   1, 186,\n",
       "        32,  89,  71,  99, 293,  10,  72, 159,  14,  91, 261,  30, 104,\n",
       "       124], dtype=int64)"
      ]
     },
     "execution_count": 2,
     "metadata": {},
     "output_type": "execute_result"
    }
   ],
   "source": [
    "uniqueVoters = df[\"Account Address\"].unique()\n",
    "print(len(uniqueVoters))"
   ]
  },
  {
   "cell_type": "code",
   "execution_count": 87,
   "metadata": {},
   "outputs": [
    {
     "data": {
      "text/plain": [
       "<AxesSubplot: title={'center': 'Simtime vs. chronotime'}, xlabel='Simulation time (seconds)'>"
      ]
     },
     "execution_count": 87,
     "metadata": {},
     "output_type": "execute_result"
    },
    {
     "data": {
      "image/png": "[encoded data removed]",
      "text/plain": [
       "<Figure size 640x480 with 1 Axes>"
      ]
     },
     "metadata": {},
     "output_type": "display_data"
    },
    {
     "data": {
      "image/png": "[encoded data removed]",
      "text/plain": [
       "<Figure size 640x480 with 1 Axes>"
      ]
     },
     "metadata": {},
     "output_type": "display_data"
    }
   ],
   "source": [
    "df_node = df[df[\"Node ID\"] == 100]\n",
    "df_node.plot(x = 'Chronological time (seconds)', y = 'round')\n",
    "\n",
    "df.plot(x=\"Simulation time (seconds)\", y=\"Chronological time (seconds)\", title=\"Simtime vs. chronotime\", xlim=[0, 200], ylim=[0,200])"
   ]
  },
  {
   "cell_type": "markdown",
   "metadata": {},
   "source": []
  },
  {
   "cell_type": "markdown",
   "metadata": {},
   "source": []
  },
  {
   "cell_type": "markdown",
   "metadata": {},
   "source": []
  },
  {
   "cell_type": "markdown",
   "metadata": {},
   "source": [
    "## Testing the Notebook\n",
    "\n",
    "Assuming all the notebooks are under `./notebooks` the following commands will work with Pytest\n",
    "\n",
    "* Simple commmand:\n",
    "\n",
    "    `pytest --nbmake notebooks`\n",
    "* Distributed command (assuming `pytest-xdist` has been installed):\n",
    "\n",
    "    `pytest --nbmake -n auto notebooks`\n",
    "* Overwrite the notebooks (by default notebooks are untouched):\n",
    "\n",
    "    `pytest --nbmake --overwrite notebooks`"
   ]
  },
  {
   "cell_type": "markdown",
   "metadata": {},
   "source": [
    "### Example: Good Cell"
   ]
  },
  {
   "cell_type": "code",
   "execution_count": 1,
   "metadata": {},
   "outputs": [
    {
     "name": "stdout",
     "output_type": "stream",
     "text": [
      "\n",
      "2**3**5=14134776518227074636666380005943348126619871175004951664972849610340958208\n",
      "(2**3)**5=32768\n",
      "2**(3**5)=14134776518227074636666380005943348126619871175004951664972849610340958208\n",
      "\n"
     ]
    }
   ],
   "source": [
    "print(f\"\"\"\n",
    "{2**3**5=}\n",
    "{(2**3)**5=}\n",
    "{2**(3**5)=}\n",
    "\"\"\")"
   ]
  },
  {
   "cell_type": "markdown",
   "metadata": {},
   "source": [
    "### Example: Bad Cell\n",
    "\n",
    "By default, an erroring cell will fail the test. Here's an example run:\n",
    "\n",
    "```sh\n",
    "❯ pytest --nbmake  notebooks\n",
    "=== test session starts ===\n",
    "...\n",
    "collected 2 items\n",
    "                                       \n",
    "notebooks/notebooks_test.ipynb F   [50%]                                                                                                           \n",
    "notebooks/quadratic_factoring_game.ipynb . [100%]\n",
    "\n",
    "=== FAILURES ===\n",
    "/Users/zeph/github/algorand/graviton/notebooks/notebooks_test.ipynb\n",
    "---------------------------------------------------------------------------\n",
    "assert 2**3**5 == (2**3)**5, \"yeah, I know this is wrong\"\n",
    "---------------------------------------------------------------------------\n",
    "```\n",
    "\n",
    "But if we set the path `metadata.execution.allows_errors` in the notebook's JSON to `true`, \n",
    "then even though the cell still behaves as expected, it doesn't halt `pytest`'s execution, and `pytest` passes as well.\n",
    "\n",
    "IE: editing the notebook `*.ipynb` as JSON:\n",
    "\n",
    "```json\n",
    "# Set the path `metadata.execution.allows_errors = true`\n",
    "{\n",
    "    \"cells\": [ ... ],\n",
    "    ...\n",
    "    \"metadata\": {\n",
    "      \"execution\": {\n",
    "       \"allow_errors\": true\n",
    "      },\n",
    "    ...\n",
    "}\n",
    "```\n",
    "\n",
    "Now when you run `pytest`, the notebook won't fail even though the cell errors:\n",
    "\n",
    "```sh\n",
    "❯ pytest --nbmake notebooks\n",
    "=== test session starts ===\n",
    "platform darwin -- Python 3.10.2, pytest-7.1.1, pluggy-1.0.0\n",
    "rootdir: /Users/zeph/github/algorand/graviton\n",
    "plugins: hypothesis-6.41.0, xdist-2.5.0, forked-1.4.0, nbmake-1.3.0\n",
    "collected 2 items                                                                                                                                              \n",
    "\n",
    "notebooks/notebooks_test.ipynb .           [ 50%]\n",
    "notebooks/quadratic_factoring_game.ipynb . [100%]\n",
    "```"
   ]
  },
  {
   "cell_type": "code",
   "execution_count": 2,
   "metadata": {},
   "outputs": [
    {
     "ename": "AssertionError",
     "evalue": "yeah, I know this is wrong",
     "output_type": "error",
     "traceback": [
      "\u001b[0;31m---------------------------------------------------------------------------\u001b[0m",
      "\u001b[0;31mAssertionError\u001b[0m                            Traceback (most recent call last)",
      "\u001b[1;32m/Users/zeph/github/algorand/graviton/notebooks/notebooks_test.ipynb Cell 7'\u001b[0m in \u001b[0;36m<cell line: 1>\u001b[0;34m()\u001b[0m\n\u001b[0;32m----> <a href='vscode-notebook-cell:/Users/zeph/github/algorand/graviton/notebooks/notebooks_test.ipynb#ch0000006?line=0'>1</a>\u001b[0m \u001b[39massert\u001b[39;00m \u001b[39m2\u001b[39m\u001b[39m*\u001b[39m\u001b[39m*\u001b[39m\u001b[39m3\u001b[39m\u001b[39m*\u001b[39m\u001b[39m*\u001b[39m\u001b[39m5\u001b[39m \u001b[39m==\u001b[39m (\u001b[39m2\u001b[39m\u001b[39m*\u001b[39m\u001b[39m*\u001b[39m\u001b[39m3\u001b[39m)\u001b[39m*\u001b[39m\u001b[39m*\u001b[39m\u001b[39m5\u001b[39m, \u001b[39m\"\u001b[39m\u001b[39myeah, I know this is wrong\u001b[39m\u001b[39m\"\u001b[39m\n",
      "\u001b[0;31mAssertionError\u001b[0m: yeah, I know this is wrong"
     ]
    }
   ],
   "source": [
    "assert 2**3**5 == (2**3)**5, \"yeah, I know this is wrong\""
   ]
  },
  {
   "cell_type": "code",
   "execution_count": 3,
   "metadata": {},
   "outputs": [
    {
     "name": "stdout",
     "output_type": "stream",
     "text": [
      "I got here, even though the above failed\n"
     ]
    }
   ],
   "source": [
    "print(\"I got here, even though the above failed\")"
   ]
  },
  {
   "cell_type": "code",
   "execution_count": null,
   "metadata": {},
   "outputs": [],
   "source": []
  }
 ],
 "metadata": {
  "execution": {
   "allow_errors": true
  },
  "interpreter": {
   "hash": "cc7b2a1767988fd8894055f999bc37e0cedcf372c09868088564c4af532681ed"
  },
  "kernelspec": {
   "display_name": "Python 3 (ipykernel)",
   "language": "python",
   "name": "python3"
  },
  "language_info": {
   "codemirror_mode": {
    "name": "ipython",
    "version": 3
   },
   "file_extension": ".py",
   "mimetype": "text/x-python",
   "name": "python",
   "nbconvert_exporter": "python",
   "pygments_lexer": "ipython3",
   "version": "3.10.6"
  }
 },
 "nbformat": 4,
 "nbformat_minor": 4
}
